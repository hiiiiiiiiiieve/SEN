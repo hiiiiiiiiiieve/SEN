{
  "nbformat": 4,
  "nbformat_minor": 0,
  "metadata": {
    "colab": {
      "provenance": [],
      "authorship_tag": "ABX9TyM3bLZVJtPcKK+bw3Ew6xH5",
      "include_colab_link": true
    },
    "kernelspec": {
      "name": "python3",
      "display_name": "Python 3"
    },
    "language_info": {
      "name": "python"
    }
  },
  "cells": [
    {
      "cell_type": "markdown",
      "metadata": {
        "id": "view-in-github",
        "colab_type": "text"
      },
      "source": [
        "<a href=\"https://colab.research.google.com/github/hiiiiiiiiiieve/SEN/blob/main/ChatGPT_%EC%84%9C%EC%9A%B8%EA%B3%BC%ED%95%99%EA%B3%A0.ipynb\" target=\"_parent\"><img src=\"https://colab.research.google.com/assets/colab-badge.svg\" alt=\"Open In Colab\"/></a>"
      ]
    },
    {
      "cell_type": "markdown",
      "source": [
        "openai_key 생성 필요\n",
        "실행XXXXXX키값 필요"
      ],
      "metadata": {
        "id": "gvYn337opSy5"
      }
    },
    {
      "cell_type": "markdown",
      "metadata": {
        "id": "EX0XbaLaMDSh"
      },
      "source": [
        "# **ChatGPT**"
      ]
    },
    {
      "cell_type": "code",
      "execution_count": null,
      "metadata": {
        "id": "9f_B2hglJ2SJ"
      },
      "outputs": [],
      "source": [
        "cd /content/drive/MyDrive/meeting_hj/KoGPT2/230528_KoGPT2/230528_chatgpt"
      ]
    },
    {
      "cell_type": "code",
      "execution_count": null,
      "metadata": {
        "id": "fjNDan7IJj_I"
      },
      "outputs": [],
      "source": [
        "!pip install -r requirements.txt"
      ]
    },
    {
      "cell_type": "code",
      "execution_count": null,
      "metadata": {
        "id": "K1-nTFHzJfK8"
      },
      "outputs": [],
      "source": [
        "아래 결합한 부분에서 코드 실행\n",
        "\n",
        "import openai\n",
        "from datetime import datetime\n",
        "import pickle\n",
        "\n",
        "#키값 입력\n",
        "api_key = open('./api.txt','r').readline() #본인 키값이 입력된 파일명으로 수정 후 진행\n",
        "# print(api_key)\n",
        "\n",
        "openai.api_key = api_key\n",
        "\n",
        "\n",
        "def generate_empathic_sentence(prompt):\n",
        "    completion = openai.ChatCompletion.create(\n",
        "        model=\"gpt-3.5-turbo\",\n",
        "        messages=prompt\n",
        "    )\n",
        "    return completion\n",
        "\n",
        "\n",
        "prompt = [{\"role\": \"system\",\n",
        "          \"content\": 'You are nice empathic assistant for depressed people. Generate empathic answer in 1~2 sentences in Korean.'}]\n",
        "\n",
        "data = {'prompt': [], 'score': []}\n",
        "\n",
        "ut = ''\n",
        "\n",
        "while ut != 'exit':\n",
        "    ut = input('대화를 입력하세요(종료하려면 \"exit\" 입력):')\n",
        "    sentence = {'role': 'user', 'content': ut}\n",
        "    prompt.append(sentence)\n",
        "    ans = generate_empathic_sentence(prompt)\n",
        "    print(ans.choices[0].message.content)\n",
        "    response = {'role': 'assistant', 'content': ans.choices[0].message.content}\n",
        "    prompt.append(response)\n",
        "\n",
        "print('대화가 종료되었습니다.')"
      ]
    }
  ]
}